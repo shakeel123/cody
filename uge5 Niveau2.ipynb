{
 "cells": [
  {
   "cell_type": "markdown",
   "id": "90cebd93",
   "metadata": {},
   "source": [
    "### Uge 5 Opgave: Niveau2 "
   ]
  },
  {
   "cell_type": "markdown",
   "id": "eba05aec",
   "metadata": {},
   "source": [
    "### Opgave beskrivelse\n",
    "Du skal implementere et simpelt lagerstyringssystem ved hjælp af OOP-principper og anvende mindst to designmønstre: Singleton for databaseforbindelse og Factory til oprettelse af forskellige typer af varer.\n",
    "\n",
    "### Singleton Mønster for Databaseforbindelse: \n",
    "Sikr, at der kun kan være én instans af databaseforbindelsesklassen i hele din applikation. Dette sikrer, at alle dele af din kodebase bruger den samme databaseforbindelse.\n",
    "\n",
    "### Factory Mønster til Oprettelse af Varer:\n",
    "Implementer en Factory klasse, der skaber forskellige typer af varer baseret på input. For eksempel, hvis din lagerstyring håndterer tøj, kan Factory klassen skabe **T-Shirt**, **Hoodie**, eller **Hat** objekter baseret på det ønskede produkt."
   ]
  },
  {
   "cell_type": "markdown",
   "id": "ca0f0421",
   "metadata": {},
   "source": [
    "### Solution:"
   ]
  },
  {
   "cell_type": "markdown",
   "id": "7cb36182",
   "metadata": {},
   "source": [
    "Dette projekt implementerer et simpelt lagerstyringssystem ved hjælp af objektorienterede programmeringsprincipper (OOP) og to designmønstre: Singleton for databaseforbindelse og Factory for oprettelse af forskellige typer af varer.\n",
    "\n",
    "\n",
    "I denne lagerstyringsapplikation, implementeret med objektorienterede programmeringsprincipper og designmønstre, definerer vi en\n",
    "\n",
    "grundklasse, **Product**, der indeholder fælles egenskaber som **ID, navn, farve, størrelse og materiale**.\n",
    "\n",
    "\n",
    "**Underklasserne** TShirt, Hoodie og Hat arver fra denne grundklasse og giver specifikke implementeringer og detaljer for hver type\n",
    "\n",
    "produkt. Singleton-mønstret anvendes på klassen **DatabaseConnection**, hvilket sikrer, at der kun eksisterer én instans af \n",
    "\n",
    "databaseforbindelsen i hele applikationen. Fabriksmønstret implementeres i klassen **ProductFactory**, der er ansvarlig for at skabe\n",
    "\n",
    "forskellige typer produkter baseret på bruger-input og tager højde for yderligere detaljer som farve, størrelse og materiale. \n",
    "\n",
    "\n",
    "**Systemet testes** ved hjælp af klassen **WarehouseSystem**, der initialiserer databaseforbindelsen og produktfabrikken. Den simulerer\n",
    "\n",
    "derefter oprettelsen af forskellige produkter, udskriver deres detaljerede information og udfører simuleringer af \n",
    "\n",
    "databaseforespørgsler for hvert produkt. Denne løsning udvider den oprindelige opgave ved at inkorporere detaljerede \n",
    "\n",
    "produktspecifikationer og demonstrerer robusthed og udvidelsesmuligheder ved hjælp af objektorienterede principper og designmønstre.\n"
   ]
  },
  {
   "cell_type": "markdown",
   "id": "2444f698",
   "metadata": {},
   "source": [
    "### Importering af nødvendig Libraries"
   ]
  },
  {
   "cell_type": "code",
   "execution_count": 9,
   "id": "cf67be6d",
   "metadata": {},
   "outputs": [],
   "source": [
    "# Importing necessary libraries\n",
    "import threading  # For thread-safety in Singleton\n",
    "import random     # For generating random product IDs"
   ]
  },
  {
   "cell_type": "markdown",
   "id": "937cb342",
   "metadata": {},
   "source": [
    "### Define Product Base Class and Subclasses\n",
    "\n",
    "we definere produkt Base calss og subclass, dvs **class Product** er en grundlæggende egenskaber og metoder,\n",
    "**Class TShirt**, er egenskaber og metoder for specifik TShirt, **class Hoodie** egenskaber og metoder for Hoodie og \n",
    "**class Hat** er egenskaber og metoder for Hat.\n",
    "\n",
    "Product er en grundklasse, der indeholder fælles egenskaber som ID, navn, farve, størrelse og materiale.\n",
    "TShirt, Hoodie og Hat er underklasser, der arver fra Product og giver specifikke "
   ]
  },
  {
   "cell_type": "code",
   "execution_count": 10,
   "id": "80e4168b",
   "metadata": {},
   "outputs": [],
   "source": [
    "# Define base class for products\n",
    "class Product:\n",
    "    def __init__(self, name, color, size, material):\n",
    "        self.id = random.randint(1000, 9999)  # Generate a random 4-digit ID\n",
    "        self.name = name\n",
    "        self.color = color\n",
    "        self.size = size\n",
    "        self.material = material\n",
    "\n",
    "    def display_info(self):\n",
    "        raise NotImplementedError(\"Method display_info must be implemented in subclasses\")\n",
    "\n",
    "class TShirt(Product):\n",
    "    def display_info(self):\n",
    "        return f\"T-Shirt: ID-{self.id}, {self.name}, Color: {self.color}, Size: {self.size}, Material: {self.material}\"\n",
    "\n",
    "class Hoodie(Product):\n",
    "    def display_info(self):\n",
    "        return f\"Hoodie: ID-{self.id}, {self.name}, Color: {self.color}, Size: {self.size}, Material: {self.material}\"\n",
    "\n",
    "class Hat(Product):\n",
    "    def display_info(self):\n",
    "        return f\"Hat: ID-{self.id}, {self.name}, Color: {self.color}, Size: {self.size}, Material: {self.material}\"\n"
   ]
  },
  {
   "cell_type": "markdown",
   "id": "8008bc87",
   "metadata": {},
   "source": [
    "### Implement Singleton for Database Connection\n",
    "Her vi implementere Singleton-mønster for databaseforbindelse ved brug af **class DataConnection**.\n",
    "\n",
    "\n",
    "**DatabaseConnection** er ansvarlig for at oprette en enkelt instans af databaseforbindelsen, sikrer trådsikkerhed ved hjælp af låsning.\n",
    "**execute_query** simulerer udførelse af en databaseforespørgsel."
   ]
  },
  {
   "cell_type": "code",
   "execution_count": 11,
   "id": "4b98ad3c",
   "metadata": {},
   "outputs": [],
   "source": [
    "# Singleton pattern for Database Connection\n",
    "class DatabaseConnection:\n",
    "    _instance = None\n",
    "    _lock = threading.Lock()\n",
    "\n",
    "    def __new__(cls):\n",
    "        with cls._lock:\n",
    "            if not cls._instance:\n",
    "                cls._instance = super(DatabaseConnection, cls).__new__(cls)\n",
    "                cls._instance.connection = \"Database Connection\"\n",
    "        return cls._instance\n",
    "\n",
    "    def execute_query(self, query):\n",
    "        print(f\"Executing query: {query} using {self.connection}\")"
   ]
  },
  {
   "cell_type": "markdown",
   "id": "62fbbb3f",
   "metadata": {},
   "source": [
    "### Implement Factory for Product Creation \n",
    "implementering af Factory mønster for at oprettelse af forskellige produkter.\n",
    "\n",
    "**ProductFactory** har en metode **create_product**, der opretter forskellige typer produkter baseret på brugerinput."
   ]
  },
  {
   "cell_type": "code",
   "execution_count": 12,
   "id": "42162a52",
   "metadata": {},
   "outputs": [],
   "source": [
    "# Factory pattern for Product Creation\n",
    "class ProductFactory:\n",
    "    def create_product(self, product_type, name, color, size, material):\n",
    "        if product_type == \"T-Shirt\":\n",
    "            return TShirt(name, color, size, material)\n",
    "        elif product_type == \"Hoodie\":\n",
    "            return Hoodie(name, color, size, material)\n",
    "        elif product_type == \"Hat\":\n",
    "            return Hat(name, color, size, material)\n",
    "        else:\n",
    "            raise ValueError(\"Unknown product type\")"
   ]
  },
  {
   "cell_type": "markdown",
   "id": "a954c0ad",
   "metadata": {},
   "source": [
    "### Test the System\n",
    "\n",
    "For teste system vi brug af  **class WarehouseSystem**. WarehouseSystem initialiserer **DatabaseConnection** og **ProductFactory**.\n",
    "\n",
    "**simulate_system** simulerer oprettelsen af forskellige produkter, udskriver detaljerede oplysninger og udfører simuleringer af databaseforespørgsler."
   ]
  },
  {
   "cell_type": "code",
   "execution_count": 13,
   "id": "6f32325e",
   "metadata": {},
   "outputs": [
    {
     "name": "stdout",
     "output_type": "stream",
     "text": [
      "T-Shirt: ID-8443, Blue T-Shirt, Color: Red, Size: M, Material: Cotton\n",
      "Executing query: INSERT INTO products (id, type, name, color, size, material) VALUES (8443, 'T-Shirt', 'Blue T-Shirt', 'Red', 'M', 'Cotton') using Database Connection\n",
      "Hoodie: ID-4498, Black Hoodie, Color: Green, Size: L, Material: Polyester\n",
      "Executing query: INSERT INTO products (id, type, name, color, size, material) VALUES (4498, 'Hoodie', 'Black Hoodie', 'Green', 'L', 'Polyester') using Database Connection\n",
      "Hat: ID-6749, Red Hat, Color: Blue, Size: S, Material: Wool\n",
      "Executing query: INSERT INTO products (id, type, name, color, size, material) VALUES (6749, 'Hat', 'Red Hat', 'Blue', 'S', 'Wool') using Database Connection\n"
     ]
    }
   ],
   "source": [
    "# Test the system\n",
    "class WarehouseSystem:\n",
    "    def __init__(self):\n",
    "        self.database_connection = DatabaseConnection()\n",
    "        self.product_factory = ProductFactory()\n",
    "\n",
    "    def simulate_system(self):\n",
    "        products_to_create = [\n",
    "            (\"T-Shirt\", \"Blue T-Shirt\", \"Red\", \"M\", \"Cotton\"),\n",
    "            (\"Hoodie\", \"Black Hoodie\", \"Green\", \"L\", \"Polyester\"),\n",
    "            (\"Hat\", \"Red Hat\", \"Blue\", \"S\", \"Wool\"),\n",
    "        ]\n",
    "\n",
    "        for product_type, product_name, color, size, material in products_to_create:\n",
    "            product = self.product_factory.create_product(product_type, product_name, color, size, material)\n",
    "            print(product.display_info())\n",
    "\n",
    "            query = f\"INSERT INTO products (id, type, name, color, size, material) VALUES \" \\\n",
    "                    f\"({product.id}, '{product_type}', '{product_name}', '{color}', '{size}', '{material}')\"\n",
    "            self.database_connection.execute_query(query)\n",
    "\n",
    "# Test the system\n",
    "warehouse_system = WarehouseSystem()\n",
    "warehouse_system.simulate_system()"
   ]
  },
  {
   "cell_type": "markdown",
   "id": "d56522de",
   "metadata": {},
   "source": [
    "### Resultat i Table format.\n",
    " Her for bedre udsyn af resultater præsenteres vi en formatteret tabel ved hjælp af PrettyTable bibliotek."
   ]
  },
  {
   "cell_type": "code",
   "execution_count": 14,
   "id": "f1c6e9ec",
   "metadata": {},
   "outputs": [
    {
     "name": "stdout",
     "output_type": "stream",
     "text": [
      "Requirement already satisfied: prettytable in c:\\users\\kom\\anaconda3\\lib\\site-packages (3.10.0)\n",
      "Requirement already satisfied: wcwidth in c:\\users\\kom\\anaconda3\\lib\\site-packages (from prettytable) (0.2.5)\n"
     ]
    }
   ],
   "source": [
    "!pip install prettytable"
   ]
  },
  {
   "cell_type": "markdown",
   "id": "f1f1df80",
   "metadata": {},
   "source": [
    "Lad os bare den Warehousesystem i table form."
   ]
  },
  {
   "cell_type": "code",
   "execution_count": 15,
   "id": "9be479f6",
   "metadata": {},
   "outputs": [
    {
     "name": "stdout",
     "output_type": "stream",
     "text": [
      "Executing query: INSERT INTO products (type, name, color, size, material) VALUES ('T-Shirt', 'Blue T-Shirt', 'Red', 'M', 'Cotton') using Database Connection\n",
      "Executing query: INSERT INTO products (type, name, color, size, material) VALUES ('Hoodie', 'Black Hoodie', 'Green', 'L', 'Polyester') using Database Connection\n",
      "Executing query: INSERT INTO products (type, name, color, size, material) VALUES ('Hat', 'Red Hat', 'Blue', 'S', 'Wool') using Database Connection\n",
      "+--------------+--------------+-------+------+-----------+\n",
      "| Product Type |     Name     | Color | Size |  Material |\n",
      "+--------------+--------------+-------+------+-----------+\n",
      "|   T-Shirt    | Blue T-Shirt |  Red  |  M   |   Cotton  |\n",
      "|    Hoodie    | Black Hoodie | Green |  L   | Polyester |\n",
      "|     Hat      |   Red Hat    |  Blue |  S   |    Wool   |\n",
      "+--------------+--------------+-------+------+-----------+\n"
     ]
    }
   ],
   "source": [
    "from prettytable import PrettyTable  # Import PrettyTable for table formatting\n",
    "\n",
    "# Test the system\n",
    "class WarehouseSystem:\n",
    "    def __init__(self):\n",
    "        self.database_connection = DatabaseConnection()\n",
    "        self.product_factory = ProductFactory()\n",
    "\n",
    "    def simulate_system(self):\n",
    "        products_table = PrettyTable([\"Product Type\", \"Name\", \"Color\", \"Size\", \"Material\"])  # Table header\n",
    "\n",
    "        products_to_create = [\n",
    "            (\"T-Shirt\", \"Blue T-Shirt\", \"Red\", \"M\", \"Cotton\"),\n",
    "            (\"Hoodie\", \"Black Hoodie\", \"Green\", \"L\", \"Polyester\"),\n",
    "            (\"Hat\", \"Red Hat\", \"Blue\", \"S\", \"Wool\")\n",
    "        ]\n",
    "\n",
    "        for product_type, name, color, size, material in products_to_create:\n",
    "            product = self.product_factory.create_product(product_type, name, color, size, material)\n",
    "\n",
    "            # Add product details to the table\n",
    "            products_table.add_row([product_type, name, color, size, material])\n",
    "\n",
    "            # Simulate database operation by executing a query\n",
    "            query = f\"INSERT INTO products (type, name, color, size, material) \" \\\n",
    "                    f\"VALUES ('{product_type}', '{name}', '{color}', '{size}', '{material}')\"\n",
    "            self.database_connection.execute_query(query)\n",
    "\n",
    "        # Print the table\n",
    "        print(products_table)\n",
    "\n",
    "# Test the system\n",
    "warehouse_system = WarehouseSystem()\n",
    "warehouse_system.simulate_system()\n"
   ]
  },
  {
   "cell_type": "markdown",
   "id": "86ceb3ff",
   "metadata": {},
   "source": [
    "### End of Note Book"
   ]
  },
  {
   "cell_type": "markdown",
   "id": "87addea5",
   "metadata": {},
   "source": [
    "**by Shakeel Ahmed. Specialisterne Academy, Ballerup.**"
   ]
  },
  {
   "cell_type": "code",
   "execution_count": null,
   "id": "39027b32",
   "metadata": {},
   "outputs": [],
   "source": []
  }
 ],
 "metadata": {
  "kernelspec": {
   "display_name": "Python 3 (ipykernel)",
   "language": "python",
   "name": "python3"
  },
  "language_info": {
   "codemirror_mode": {
    "name": "ipython",
    "version": 3
   },
   "file_extension": ".py",
   "mimetype": "text/x-python",
   "name": "python",
   "nbconvert_exporter": "python",
   "pygments_lexer": "ipython3",
   "version": "3.11.5"
  }
 },
 "nbformat": 4,
 "nbformat_minor": 5
}
