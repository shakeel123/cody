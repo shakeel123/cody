{
 "cells": [
  {
   "cell_type": "markdown",
   "id": "e19cf922",
   "metadata": {},
   "source": [
    "### Uge 5: Niveau 1"
   ]
  },
  {
   "cell_type": "markdown",
   "id": "ea63ebc1",
   "metadata": {},
   "source": [
    "### Opgave 1 - Logfil Analyser\n",
    "Formål: Udvikle et script, der læser en logfil, filtrerer bestemte typer af logmeddelelser (f.eks., ERROR, WARNING), og opsummerer disse i en ny fil.\n",
    "\n",
    "Lad os start define funktion med variabler input_file, Output file og filtered words. "
   ]
  },
  {
   "cell_type": "markdown",
   "id": "ca66ac4a",
   "metadata": {},
   "source": [
    "vi brug funktioner Analyze_log som analyserer logindgange fra en inputfil **app_log.txt**, filtrerer dem baseret på specificerede nøgleord ( fitered_keywords som i herned er **ERROR, WARNING** og gemmer de filtrerede logs i en outputfil **filtered_logs.txt**.\n"
   ]
  },
  {
   "cell_type": "code",
   "execution_count": 18,
   "id": "75b3f6fc",
   "metadata": {},
   "outputs": [
    {
     "name": "stdout",
     "output_type": "stream",
     "text": [
      "Analysis complete. Filtered logs saved to filtered_logs.txt\n"
     ]
    }
   ],
   "source": [
    "def analyze_log(input_file, output_file, filter_keywords):\n",
    "    try:\n",
    "        with open(input_file, 'r') as file:\n",
    "            logs = file.readlines()\n",
    "\n",
    "        filtered_logs = [log for log in logs if any(keyword in log for keyword in filter_keywords)]\n",
    "\n",
    "        with open(output_file, 'w') as result_file:\n",
    "            result_file.writelines(filtered_logs)\n",
    "\n",
    "        print(f\"Analysis complete. Filtered logs saved to {output_file}\")\n",
    "\n",
    "    except FileNotFoundError:\n",
    "        print(f\"Error: File '{input_file}' not found.\")\n",
    "\n",
    "if __name__ == \"__main__\":\n",
    "    # Indtast filnavn og nøgleord her\n",
    "    input_filename = \"app_log.txt\"\n",
    "    output_filename = \"filtered_logs.txt\"\n",
    "    filter_keywords = [\"ERROR\", \"WARNING\"]\n",
    "\n",
    "    analyze_log(input_filename, output_filename, filter_keywords)\n"
   ]
  },
  {
   "cell_type": "markdown",
   "id": "6a7beb61",
   "metadata": {},
   "source": [
    "### Forklaring.\n",
    "Vi starter åbner logfilen i læsetilstand med **with open()**, og bruger with-blokken for at sikre, at filen bliver korrekt lukket, selv hvis der opstår en fejl. Ved brug af **readlines()** læser alle linjer fra logfilen og gemmer dem i listen logs.\n",
    "\n",
    "Vi opretter en liste med **filtered_logs = []**, der kun indeholder linjer, der indeholder mindst ét af nøgleordene. (Filtrer logmeddelelser baseret på nøgleordene i filter_keywords)\n",
    "\n",
    "Nu åbner en ny fil i skrivetilstand for at gemme de filtrerede logmeddelelser **with open(output_file,) as result_file**  og skriver de filtrerede logmeddelelser til outputfilen ved brug af **result_file.writelines()**\n",
    "\n",
    "**except FileNotFoundError**  for at fil håndterer tilfælde, hvor logfilen ikke kunne findes, og udskriver en fejlbesked.\n",
    "\n",
    "Når kører dette script, vil det læse **app_log.txt**, filtrere logmeddelelserne baseret på \"ERROR\" og \"WARNING\", og gemme de filtrerede logmeddelelser i en ny fil kaldet **filtered_logs.txt.**\n"
   ]
  },
  {
   "cell_type": "markdown",
   "id": "f65e64ea",
   "metadata": {},
   "source": [
    "### Opgave 2 - Data Migrering Hjælpeværktøj\n",
    "Opret et script, der migrerer data fra en kildefil til en destinationsfil, mens det håndterer potentielle fejl, såsom manglende filer, formateringsfejl, eller skrivebeskyttelse, med passende fejlmeddelelser og undtagelseshåndtering.\n",
    "\n",
    "### Færdigheder: \n",
    "Vi brug ved af funktion **migrer_data** for Migrerer data fra en kildefil til en destinationsfil. Parameter **kilde_fil** er navnet på kildefilen, der indeholder data, der skal migreres. Paramete **destinations_fil** er navnet på destinationsfilen, hvor data skal migreres til."
   ]
  },
  {
   "cell_type": "code",
   "execution_count": 1,
   "id": "99a427e6",
   "metadata": {},
   "outputs": [
    {
     "name": "stdout",
     "output_type": "stream",
     "text": [
      "Data migreret fra 'source_data.csv' til 'destination_data.csv'.\n"
     ]
    }
   ],
   "source": [
    "import csv\n",
    "import shutil\n",
    "import os\n",
    "\n",
    "class MigreringsFejl(Exception): #En brugerdefineret undtagelse for migreringsrelaterede fejl\n",
    "    pass\n",
    "\n",
    "def migrer_data(kilde_fil, destinations_fil):\n",
    "    try:\n",
    "        # Tjek om kildefilen eksisterer\n",
    "        if not os.path.exists(kilde_fil):\n",
    "            raise MigreringsFejl(f\"Fejl: Kildefilen '{kilde_fil}' eksisterer ikke.\")\n",
    "\n",
    "        # Åbn kildefilen og destinationsfilen\n",
    "        with open(kilde_fil, 'r') as kilde, open(destinations_fil, 'w', newline='') as destination:\n",
    "            # Læs data fra kildefilen\n",
    "            reader = csv.reader(kilde)\n",
    "            writer = csv.writer(destination)\n",
    "\n",
    "            # Iterer over rækker i kildefilen og skriv dem til destinationsfilen\n",
    "            for række in reader:\n",
    "        \n",
    "                writer.writerow(række)\n",
    "\n",
    "        print(f\"Data migreret fra '{kilde_fil}' til '{destinations_fil}'.\")\n",
    "    except MigreringsFejl as e:\n",
    "        print(str(e))\n",
    "    except Exception as e:\n",
    "        print(f\"Uventet fejl: {str(e)}\")\n",
    "\n",
    "if __name__ == \"__main__\":\n",
    "    kilde_filnavn = \"source_data.csv\"\n",
    "    destinations_filnavn = \"destination_data.csv\"\n",
    "\n",
    "    migrer_data(kilde_filnavn, destinations_filnavn)\n"
   ]
  },
  {
   "cell_type": "markdown",
   "id": "8232065f",
   "metadata": {},
   "source": [
    "### Forklaring.\n",
    "Denne klasse **MigreringsFejl(Exception)** bruges til at håndtere specifikke fejl under data-migreringen. koden indfor placeret  try-except blok, hvilket betyder, at den forsøger at udføre visse handlinger, men håndterer eventuelle fejl, der kan opstå undervejs. **os.path** checker fil eksistere. Hvis ikke, **MigreringsFejl(Exception)** udløse en fejl. \n",
    "\n",
    "for at åbner og skriver data til destinationsfilen ved hjælp af csv-modulet **except DataMigrationError as e** håndterer specifikke fejl, der udløses under data-migreringen og udskriver passende fejlbeskeder."
   ]
  },
  {
   "cell_type": "markdown",
   "id": "064b14d8",
   "metadata": {},
   "source": [
    "###  End of Notebook\n",
    "by Shakeel Ahmed."
   ]
  },
  {
   "cell_type": "code",
   "execution_count": null,
   "id": "50edcc93",
   "metadata": {},
   "outputs": [],
   "source": []
  }
 ],
 "metadata": {
  "kernelspec": {
   "display_name": "Python 3 (ipykernel)",
   "language": "python",
   "name": "python3"
  },
  "language_info": {
   "codemirror_mode": {
    "name": "ipython",
    "version": 3
   },
   "file_extension": ".py",
   "mimetype": "text/x-python",
   "name": "python",
   "nbconvert_exporter": "python",
   "pygments_lexer": "ipython3",
   "version": "3.11.5"
  }
 },
 "nbformat": 4,
 "nbformat_minor": 5
}
